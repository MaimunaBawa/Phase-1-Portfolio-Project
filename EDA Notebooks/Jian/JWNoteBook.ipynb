{
 "cells": [
  {
   "cell_type": "code",
   "execution_count": 8,
   "metadata": {},
   "outputs": [],
   "source": [
    "import pandas as pd\n",
    "import os\n",
    "df=pd.read_csv('../csv/nyc_all_parks_special_event.csv')"
   ]
  },
  {
   "cell_type": "code",
   "execution_count": 10,
   "metadata": {},
   "outputs": [
    {
     "name": "stdout",
     "output_type": "stream",
     "text": [
      "<class 'pandas.core.frame.DataFrame'>\n",
      "RangeIndex: 18802 entries, 0 to 18801\n",
      "Data columns (total 13 columns):\n",
      " #   Column              Non-Null Count  Dtype  \n",
      "---  ------              --------------  -----  \n",
      " 0   unit                11763 non-null  object \n",
      " 1   group_name_partner  7518 non-null   object \n",
      " 2   date_and_time       18802 non-null  object \n",
      " 3   borough             18802 non-null  object \n",
      " 4   locationtype        18133 non-null  object \n",
      " 5   location            18802 non-null  object \n",
      " 6   event_name          18602 non-null  object \n",
      " 7   event_type          11763 non-null  object \n",
      " 8   category            18778 non-null  object \n",
      " 9   attendance          18656 non-null  float64\n",
      " 10  audience            11763 non-null  object \n",
      " 11  source              18802 non-null  object \n",
      " 12  classification      15679 non-null  object \n",
      "dtypes: float64(1), object(12)\n",
      "memory usage: 1.9+ MB\n"
     ]
    }
   ],
   "source": [
    "df.info()"
   ]
  },
  {
   "cell_type": "code",
   "execution_count": 11,
   "metadata": {},
   "outputs": [
    {
     "data": {
      "text/plain": [
       "Index(['unit', 'group_name_partner', 'date_and_time', 'borough',\n",
       "       'locationtype', 'location', 'event_name', 'event_type', 'category',\n",
       "       'attendance', 'audience', 'source', 'classification'],\n",
       "      dtype='object')"
      ]
     },
     "execution_count": 11,
     "metadata": {},
     "output_type": "execute_result"
    }
   ],
   "source": [
    "df.columns"
   ]
  },
  {
   "cell_type": "code",
   "execution_count": 12,
   "metadata": {},
   "outputs": [
    {
     "data": {
      "text/html": [
       "<div>\n",
       "<style scoped>\n",
       "    .dataframe tbody tr th:only-of-type {\n",
       "        vertical-align: middle;\n",
       "    }\n",
       "\n",
       "    .dataframe tbody tr th {\n",
       "        vertical-align: top;\n",
       "    }\n",
       "\n",
       "    .dataframe thead th {\n",
       "        text-align: right;\n",
       "    }\n",
       "</style>\n",
       "<table border=\"1\" class=\"dataframe\">\n",
       "  <thead>\n",
       "    <tr style=\"text-align: right;\">\n",
       "      <th></th>\n",
       "      <th>unit</th>\n",
       "      <th>group_name_partner</th>\n",
       "      <th>date_and_time</th>\n",
       "      <th>borough</th>\n",
       "      <th>locationtype</th>\n",
       "      <th>location</th>\n",
       "      <th>event_name</th>\n",
       "      <th>event_type</th>\n",
       "      <th>category</th>\n",
       "      <th>attendance</th>\n",
       "      <th>audience</th>\n",
       "      <th>source</th>\n",
       "      <th>classification</th>\n",
       "    </tr>\n",
       "  </thead>\n",
       "  <tbody>\n",
       "    <tr>\n",
       "      <th>0</th>\n",
       "      <td>Urban Park Rangers</td>\n",
       "      <td>Urban Park Rangers</td>\n",
       "      <td>2019-10-12T11:00:00.000</td>\n",
       "      <td>Queens</td>\n",
       "      <td>Adventure Course</td>\n",
       "      <td>Alley Pond Adventure Course</td>\n",
       "      <td>PEP Family and Friends</td>\n",
       "      <td>Agency Produced Event</td>\n",
       "      <td>Nature</td>\n",
       "      <td>75.0</td>\n",
       "      <td>Children;#Young Adult;#Adults;#Teens;#Tot</td>\n",
       "      <td>Sharepoint</td>\n",
       "      <td>NaN</td>\n",
       "    </tr>\n",
       "    <tr>\n",
       "      <th>1</th>\n",
       "      <td>Urban Park Rangers</td>\n",
       "      <td>Greenbelt Conservancy</td>\n",
       "      <td>2019-11-20T18:00:00.000</td>\n",
       "      <td>Staten Island</td>\n",
       "      <td>Nature Center</td>\n",
       "      <td>Greenbelt Nature Center</td>\n",
       "      <td>Family Science Night</td>\n",
       "      <td>Local Event</td>\n",
       "      <td>Nature</td>\n",
       "      <td>30.0</td>\n",
       "      <td>General Public</td>\n",
       "      <td>Sharepoint</td>\n",
       "      <td>NaN</td>\n",
       "    </tr>\n",
       "    <tr>\n",
       "      <th>2</th>\n",
       "      <td>Urban Park Rangers</td>\n",
       "      <td>Greenbelt Nature Center</td>\n",
       "      <td>2019-12-19T18:00:00.000</td>\n",
       "      <td>Staten Island</td>\n",
       "      <td>Nature Center</td>\n",
       "      <td>Greenbelt Nature Center</td>\n",
       "      <td>Family science night</td>\n",
       "      <td>Community Based Event</td>\n",
       "      <td>Academic/Out of School time</td>\n",
       "      <td>9.0</td>\n",
       "      <td>Children;#Adults;#Teens</td>\n",
       "      <td>Sharepoint</td>\n",
       "      <td>NaN</td>\n",
       "    </tr>\n",
       "    <tr>\n",
       "      <th>3</th>\n",
       "      <td>Urban Park Rangers</td>\n",
       "      <td>Greenbelt</td>\n",
       "      <td>2020-01-15T18:00:00.000</td>\n",
       "      <td>Staten Island</td>\n",
       "      <td>Nature Center</td>\n",
       "      <td>Greenbelt Nature Center</td>\n",
       "      <td>Family Science Night</td>\n",
       "      <td>Agency Produced Event</td>\n",
       "      <td>Academic/Out of School time</td>\n",
       "      <td>30.0</td>\n",
       "      <td>Children;#Adults;#Teens</td>\n",
       "      <td>Sharepoint</td>\n",
       "      <td>NaN</td>\n",
       "    </tr>\n",
       "    <tr>\n",
       "      <th>4</th>\n",
       "      <td>Urban Park Rangers</td>\n",
       "      <td>Greenbelt Nature Center</td>\n",
       "      <td>2020-01-19T11:00:00.000</td>\n",
       "      <td>Staten Island</td>\n",
       "      <td>Nature Center</td>\n",
       "      <td>Greenbelt Nature Center</td>\n",
       "      <td>Winter Wilderness Skills</td>\n",
       "      <td>Local Event</td>\n",
       "      <td>Nature</td>\n",
       "      <td>62.0</td>\n",
       "      <td>Children;#Young Adult;#Adults;#Teens</td>\n",
       "      <td>Sharepoint</td>\n",
       "      <td>NaN</td>\n",
       "    </tr>\n",
       "  </tbody>\n",
       "</table>\n",
       "</div>"
      ],
      "text/plain": [
       "                 unit       group_name_partner            date_and_time  \\\n",
       "0  Urban Park Rangers       Urban Park Rangers  2019-10-12T11:00:00.000   \n",
       "1  Urban Park Rangers    Greenbelt Conservancy  2019-11-20T18:00:00.000   \n",
       "2  Urban Park Rangers  Greenbelt Nature Center  2019-12-19T18:00:00.000   \n",
       "3  Urban Park Rangers                Greenbelt  2020-01-15T18:00:00.000   \n",
       "4  Urban Park Rangers  Greenbelt Nature Center  2020-01-19T11:00:00.000   \n",
       "\n",
       "         borough      locationtype                     location  \\\n",
       "0         Queens  Adventure Course  Alley Pond Adventure Course   \n",
       "1  Staten Island     Nature Center      Greenbelt Nature Center   \n",
       "2  Staten Island     Nature Center      Greenbelt Nature Center   \n",
       "3  Staten Island     Nature Center      Greenbelt Nature Center   \n",
       "4  Staten Island     Nature Center      Greenbelt Nature Center   \n",
       "\n",
       "                 event_name             event_type  \\\n",
       "0    PEP Family and Friends  Agency Produced Event   \n",
       "1      Family Science Night            Local Event   \n",
       "2      Family science night  Community Based Event   \n",
       "3      Family Science Night  Agency Produced Event   \n",
       "4  Winter Wilderness Skills            Local Event   \n",
       "\n",
       "                      category  attendance  \\\n",
       "0                       Nature        75.0   \n",
       "1                       Nature        30.0   \n",
       "2  Academic/Out of School time         9.0   \n",
       "3  Academic/Out of School time        30.0   \n",
       "4                       Nature        62.0   \n",
       "\n",
       "                                    audience      source classification  \n",
       "0  Children;#Young Adult;#Adults;#Teens;#Tot  Sharepoint            NaN  \n",
       "1                             General Public  Sharepoint            NaN  \n",
       "2                    Children;#Adults;#Teens  Sharepoint            NaN  \n",
       "3                    Children;#Adults;#Teens  Sharepoint            NaN  \n",
       "4       Children;#Young Adult;#Adults;#Teens  Sharepoint            NaN  "
      ]
     },
     "execution_count": 12,
     "metadata": {},
     "output_type": "execute_result"
    }
   ],
   "source": [
    "df.head()"
   ]
  },
  {
   "cell_type": "code",
   "execution_count": 13,
   "metadata": {},
   "outputs": [
    {
     "data": {
      "text/plain": [
       "unit                      6\n",
       "group_name_partner     1162\n",
       "date_and_time         10688\n",
       "borough                   5\n",
       "locationtype              8\n",
       "location               1112\n",
       "event_name             5240\n",
       "event_type                5\n",
       "category                 13\n",
       "attendance              541\n",
       "audience                721\n",
       "source                    2\n",
       "classification           35\n",
       "dtype: int64"
      ]
     },
     "execution_count": 13,
     "metadata": {},
     "output_type": "execute_result"
    }
   ],
   "source": [
    "df.nunique()\n"
   ]
  },
  {
   "cell_type": "code",
   "execution_count": 15,
   "metadata": {},
   "outputs": [
    {
     "data": {
      "text/plain": [
       "array(['Urban Park Rangers', 'Recreation', 'Public Programs',\n",
       "       'Media Education', 'Wildlife Unit', 'Aquatics', nan], dtype=object)"
      ]
     },
     "execution_count": 15,
     "metadata": {},
     "output_type": "execute_result"
    }
   ],
   "source": [
    "df['unit'].unique()"
   ]
  },
  {
   "cell_type": "code",
   "execution_count": 16,
   "metadata": {},
   "outputs": [
    {
     "data": {
      "text/plain": [
       "array(['Urban Park Rangers', 'Greenbelt Conservancy',\n",
       "       'Greenbelt Nature Center', ..., 'CUNY City College of New York',\n",
       "       'Saturday Science: BioBus (Columbia University)',\n",
       "       'Frederick Douglass Academy VI High School'], dtype=object)"
      ]
     },
     "execution_count": 16,
     "metadata": {},
     "output_type": "execute_result"
    }
   ],
   "source": [
    "df['group_name_partner'].unique()"
   ]
  },
  {
   "cell_type": "code",
   "execution_count": 17,
   "metadata": {},
   "outputs": [
    {
     "data": {
      "text/plain": [
       "array(['Adventure Course', 'Nature Center', 'Park', 'Other', 'Playground',\n",
       "       'School', 'Pool', 'Recreation Center', nan], dtype=object)"
      ]
     },
     "execution_count": 17,
     "metadata": {},
     "output_type": "execute_result"
    }
   ],
   "source": [
    "df['locationtype'].unique()"
   ]
  },
  {
   "cell_type": "code",
   "execution_count": 21,
   "metadata": {},
   "outputs": [],
   "source": [
    "df['date_and_time'] = pd.to_datetime(df['date_and_time'])"
   ]
  },
  {
   "cell_type": "code",
   "execution_count": null,
   "metadata": {},
   "outputs": [],
   "source": [
    "df['date'] = df['date_and_time'].dt.date\n",
    "df['time'] = df['date_and_time'].dt.time"
   ]
  },
  {
   "cell_type": "code",
   "execution_count": 25,
   "metadata": {},
   "outputs": [
    {
     "name": "stdout",
     "output_type": "stream",
     "text": [
      "<class 'pandas.core.frame.DataFrame'>\n",
      "RangeIndex: 18802 entries, 0 to 18801\n",
      "Data columns (total 15 columns):\n",
      " #   Column              Non-Null Count  Dtype         \n",
      "---  ------              --------------  -----         \n",
      " 0   unit                11763 non-null  object        \n",
      " 1   group_name_partner  7518 non-null   object        \n",
      " 2   date_and_time       18802 non-null  datetime64[ns]\n",
      " 3   borough             18802 non-null  object        \n",
      " 4   locationtype        18133 non-null  object        \n",
      " 5   location            18802 non-null  object        \n",
      " 6   event_name          18602 non-null  object        \n",
      " 7   event_type          11763 non-null  object        \n",
      " 8   category            18778 non-null  object        \n",
      " 9   attendance          18656 non-null  float64       \n",
      " 10  audience            11763 non-null  object        \n",
      " 11  source              18802 non-null  object        \n",
      " 12  classification      15679 non-null  object        \n",
      " 13  date                18802 non-null  object        \n",
      " 14  time                18802 non-null  object        \n",
      "dtypes: datetime64[ns](1), float64(1), object(13)\n",
      "memory usage: 2.2+ MB\n"
     ]
    }
   ],
   "source": [
    "df.info()"
   ]
  },
  {
   "cell_type": "code",
   "execution_count": null,
   "metadata": {},
   "outputs": [],
   "source": []
  }
 ],
 "metadata": {
  "kernelspec": {
   "display_name": "base",
   "language": "python",
   "name": "python3"
  },
  "language_info": {
   "codemirror_mode": {
    "name": "ipython",
    "version": 3
   },
   "file_extension": ".py",
   "mimetype": "text/x-python",
   "name": "python",
   "nbconvert_exporter": "python",
   "pygments_lexer": "ipython3",
   "version": "3.12.7"
  }
 },
 "nbformat": 4,
 "nbformat_minor": 2
}
