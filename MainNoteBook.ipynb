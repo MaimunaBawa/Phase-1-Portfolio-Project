{
 "cells": [
  {
   "cell_type": "code",
   "execution_count": 5,
   "metadata": {},
   "outputs": [],
   "source": [
    "\n",
    "import requests\n",
    "import pandas as pd\n",
    "import json\n"
   ]
  },
  {
   "cell_type": "code",
   "execution_count": 6,
   "metadata": {},
   "outputs": [],
   "source": [
    "url = \"https://data.cityofnewyork.us/resource/6v4b-5gp4.json\"\n",
    "page = requests.get(url)\n",
    "converted = page.json()\n",
    "\n",
    "# Pull your JSON data programmatically into your Python program, a\n",
    "# and save this object into the path data/json.\n",
    "\n",
    "with open(\"json/city_events.json\" , mode = \"w\") as file:\n",
    "    #converts python object to json\n",
    "    json.dump(converted, file, indent=4)  \n",
    "\n",
    "#your new dataframe w/o metadata\n",
    "df = pd.DataFrame(converted)\n",
    "\n",
    "#Convert Json file with out metadata to CSV, \n",
    "df.to_csv('csv/city_events.csv', index = False) \n"
   ]
  },
  {
   "cell_type": "code",
   "execution_count": null,
   "metadata": {},
   "outputs": [],
   "source": []
  }
 ],
 "metadata": {
  "kernelspec": {
   "display_name": "base",
   "language": "python",
   "name": "python3"
  },
  "language_info": {
   "codemirror_mode": {
    "name": "ipython",
    "version": 3
   },
   "file_extension": ".py",
   "mimetype": "text/x-python",
   "name": "python",
   "nbconvert_exporter": "python",
   "pygments_lexer": "ipython3",
   "version": "3.12.7"
  }
 },
 "nbformat": 4,
 "nbformat_minor": 2
}
